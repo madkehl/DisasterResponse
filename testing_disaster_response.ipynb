{
 "cells": [
  {
   "cell_type": "code",
   "execution_count": 211,
   "metadata": {},
   "outputs": [],
   "source": [
    "exec(open(\"./models/train_classifier.py\").read())\n",
    "from sklearn.metrics import classification_report\n",
    "from sklearn.metrics import f1_score\n",
    "\n"
   ]
  },
  {
   "cell_type": "code",
   "execution_count": 176,
   "metadata": {},
   "outputs": [
    {
     "ename": "KeyboardInterrupt",
     "evalue": "",
     "output_type": "error",
     "traceback": [
      "\u001b[1;31m---------------------------------------------------------------------------\u001b[0m",
      "\u001b[1;31mPermissionError\u001b[0m                           Traceback (most recent call last)",
      "\u001b[1;32m~\\Anaconda3\\lib\\genericpath.py\u001b[0m in \u001b[0;36misfile\u001b[1;34m(path)\u001b[0m\n\u001b[0;32m     29\u001b[0m     \u001b[1;32mtry\u001b[0m\u001b[1;33m:\u001b[0m\u001b[1;33m\u001b[0m\u001b[0m\n\u001b[1;32m---> 30\u001b[1;33m         \u001b[0mst\u001b[0m \u001b[1;33m=\u001b[0m \u001b[0mos\u001b[0m\u001b[1;33m.\u001b[0m\u001b[0mstat\u001b[0m\u001b[1;33m(\u001b[0m\u001b[0mpath\u001b[0m\u001b[1;33m)\u001b[0m\u001b[1;33m\u001b[0m\u001b[0m\n\u001b[0m\u001b[0;32m     31\u001b[0m     \u001b[1;32mexcept\u001b[0m \u001b[0mOSError\u001b[0m\u001b[1;33m:\u001b[0m\u001b[1;33m\u001b[0m\u001b[0m\n",
      "\u001b[1;31mPermissionError\u001b[0m: [WinError 21] The device is not ready: 'D:\\\\nltk_data'",
      "\nDuring handling of the above exception, another exception occurred:\n",
      "\u001b[1;31mKeyboardInterrupt\u001b[0m                         Traceback (most recent call last)",
      "\u001b[1;32m<ipython-input-176-30cb5300fffa>\u001b[0m in \u001b[0;36m<module>\u001b[1;34m\u001b[0m\n\u001b[1;32m----> 1\u001b[1;33m \u001b[0mX\u001b[0m\u001b[1;33m,\u001b[0m \u001b[0mY\u001b[0m\u001b[1;33m,\u001b[0m \u001b[0mcategory_names\u001b[0m \u001b[1;33m=\u001b[0m \u001b[0mload_data\u001b[0m\u001b[1;33m(\u001b[0m\u001b[1;34m\"./data/DisasterResponse.db\"\u001b[0m\u001b[1;33m)\u001b[0m\u001b[1;33m\u001b[0m\u001b[0m\n\u001b[0m",
      "\u001b[1;32m<string>\u001b[0m in \u001b[0;36mload_data\u001b[1;34m(database_filepath)\u001b[0m\n",
      "\u001b[1;32m<string>\u001b[0m in \u001b[0;36mtokenize\u001b[1;34m(txt)\u001b[0m\n",
      "\u001b[1;32m~\\Anaconda3\\lib\\site-packages\\nltk\\tag\\__init__.py\u001b[0m in \u001b[0;36mpos_tag\u001b[1;34m(tokens, tagset, lang)\u001b[0m\n\u001b[0;32m    131\u001b[0m     \u001b[1;33m:\u001b[0m\u001b[0mrtype\u001b[0m\u001b[1;33m:\u001b[0m \u001b[0mlist\u001b[0m\u001b[1;33m(\u001b[0m\u001b[0mtuple\u001b[0m\u001b[1;33m(\u001b[0m\u001b[0mstr\u001b[0m\u001b[1;33m,\u001b[0m \u001b[0mstr\u001b[0m\u001b[1;33m)\u001b[0m\u001b[1;33m)\u001b[0m\u001b[1;33m\u001b[0m\u001b[0m\n\u001b[0;32m    132\u001b[0m     \"\"\"\n\u001b[1;32m--> 133\u001b[1;33m     \u001b[0mtagger\u001b[0m \u001b[1;33m=\u001b[0m \u001b[0m_get_tagger\u001b[0m\u001b[1;33m(\u001b[0m\u001b[0mlang\u001b[0m\u001b[1;33m)\u001b[0m\u001b[1;33m\u001b[0m\u001b[0m\n\u001b[0m\u001b[0;32m    134\u001b[0m     \u001b[1;32mreturn\u001b[0m \u001b[0m_pos_tag\u001b[0m\u001b[1;33m(\u001b[0m\u001b[0mtokens\u001b[0m\u001b[1;33m,\u001b[0m \u001b[0mtagset\u001b[0m\u001b[1;33m,\u001b[0m \u001b[0mtagger\u001b[0m\u001b[1;33m)\u001b[0m\u001b[1;33m\u001b[0m\u001b[0m\n\u001b[0;32m    135\u001b[0m \u001b[1;33m\u001b[0m\u001b[0m\n",
      "\u001b[1;32m~\\Anaconda3\\lib\\site-packages\\nltk\\tag\\__init__.py\u001b[0m in \u001b[0;36m_get_tagger\u001b[1;34m(lang)\u001b[0m\n\u001b[0;32m     95\u001b[0m         \u001b[0mtagger\u001b[0m\u001b[1;33m.\u001b[0m\u001b[0mload\u001b[0m\u001b[1;33m(\u001b[0m\u001b[0map_russian_model_loc\u001b[0m\u001b[1;33m)\u001b[0m\u001b[1;33m\u001b[0m\u001b[0m\n\u001b[0;32m     96\u001b[0m     \u001b[1;32melse\u001b[0m\u001b[1;33m:\u001b[0m\u001b[1;33m\u001b[0m\u001b[0m\n\u001b[1;32m---> 97\u001b[1;33m         \u001b[0mtagger\u001b[0m \u001b[1;33m=\u001b[0m \u001b[0mPerceptronTagger\u001b[0m\u001b[1;33m(\u001b[0m\u001b[1;33m)\u001b[0m\u001b[1;33m\u001b[0m\u001b[0m\n\u001b[0m\u001b[0;32m     98\u001b[0m     \u001b[1;32mreturn\u001b[0m \u001b[0mtagger\u001b[0m\u001b[1;33m\u001b[0m\u001b[0m\n\u001b[0;32m     99\u001b[0m \u001b[1;33m\u001b[0m\u001b[0m\n",
      "\u001b[1;32m~\\Anaconda3\\lib\\site-packages\\nltk\\tag\\perceptron.py\u001b[0m in \u001b[0;36m__init__\u001b[1;34m(self, load)\u001b[0m\n\u001b[0;32m    138\u001b[0m         \u001b[0mself\u001b[0m\u001b[1;33m.\u001b[0m\u001b[0mclasses\u001b[0m \u001b[1;33m=\u001b[0m \u001b[0mset\u001b[0m\u001b[1;33m(\u001b[0m\u001b[1;33m)\u001b[0m\u001b[1;33m\u001b[0m\u001b[0m\n\u001b[0;32m    139\u001b[0m         \u001b[1;32mif\u001b[0m \u001b[0mload\u001b[0m\u001b[1;33m:\u001b[0m\u001b[1;33m\u001b[0m\u001b[0m\n\u001b[1;32m--> 140\u001b[1;33m             \u001b[0mAP_MODEL_LOC\u001b[0m \u001b[1;33m=\u001b[0m \u001b[1;34m'file:'\u001b[0m\u001b[1;33m+\u001b[0m\u001b[0mstr\u001b[0m\u001b[1;33m(\u001b[0m\u001b[0mfind\u001b[0m\u001b[1;33m(\u001b[0m\u001b[1;34m'taggers/averaged_perceptron_tagger/'\u001b[0m\u001b[1;33m+\u001b[0m\u001b[0mPICKLE\u001b[0m\u001b[1;33m)\u001b[0m\u001b[1;33m)\u001b[0m\u001b[1;33m\u001b[0m\u001b[0m\n\u001b[0m\u001b[0;32m    141\u001b[0m             \u001b[0mself\u001b[0m\u001b[1;33m.\u001b[0m\u001b[0mload\u001b[0m\u001b[1;33m(\u001b[0m\u001b[0mAP_MODEL_LOC\u001b[0m\u001b[1;33m)\u001b[0m\u001b[1;33m\u001b[0m\u001b[0m\n\u001b[0;32m    142\u001b[0m \u001b[1;33m\u001b[0m\u001b[0m\n",
      "\u001b[1;32m~\\Anaconda3\\lib\\site-packages\\nltk\\data.py\u001b[0m in \u001b[0;36mfind\u001b[1;34m(resource_name, paths)\u001b[0m\n\u001b[0;32m    617\u001b[0m     \u001b[1;32mfor\u001b[0m \u001b[0mpath_\u001b[0m \u001b[1;32min\u001b[0m \u001b[0mpaths\u001b[0m\u001b[1;33m:\u001b[0m\u001b[1;33m\u001b[0m\u001b[0m\n\u001b[0;32m    618\u001b[0m         \u001b[1;31m# Is the path item a zipfile?\u001b[0m\u001b[1;33m\u001b[0m\u001b[1;33m\u001b[0m\u001b[0m\n\u001b[1;32m--> 619\u001b[1;33m         \u001b[1;32mif\u001b[0m \u001b[0mpath_\u001b[0m \u001b[1;32mand\u001b[0m \u001b[1;33m(\u001b[0m\u001b[0mos\u001b[0m\u001b[1;33m.\u001b[0m\u001b[0mpath\u001b[0m\u001b[1;33m.\u001b[0m\u001b[0misfile\u001b[0m\u001b[1;33m(\u001b[0m\u001b[0mpath_\u001b[0m\u001b[1;33m)\u001b[0m \u001b[1;32mand\u001b[0m \u001b[0mpath_\u001b[0m\u001b[1;33m.\u001b[0m\u001b[0mendswith\u001b[0m\u001b[1;33m(\u001b[0m\u001b[1;34m'.zip'\u001b[0m\u001b[1;33m)\u001b[0m\u001b[1;33m)\u001b[0m\u001b[1;33m:\u001b[0m\u001b[1;33m\u001b[0m\u001b[0m\n\u001b[0m\u001b[0;32m    620\u001b[0m             \u001b[1;32mtry\u001b[0m\u001b[1;33m:\u001b[0m\u001b[1;33m\u001b[0m\u001b[0m\n\u001b[0;32m    621\u001b[0m                 \u001b[1;32mreturn\u001b[0m \u001b[0mZipFilePathPointer\u001b[0m\u001b[1;33m(\u001b[0m\u001b[0mpath_\u001b[0m\u001b[1;33m,\u001b[0m \u001b[0mresource_name\u001b[0m\u001b[1;33m)\u001b[0m\u001b[1;33m\u001b[0m\u001b[0m\n",
      "\u001b[1;32m~\\Anaconda3\\lib\\genericpath.py\u001b[0m in \u001b[0;36misfile\u001b[1;34m(path)\u001b[0m\n\u001b[0;32m     28\u001b[0m     \u001b[1;34m\"\"\"Test whether a path is a regular file\"\"\"\u001b[0m\u001b[1;33m\u001b[0m\u001b[0m\n\u001b[0;32m     29\u001b[0m     \u001b[1;32mtry\u001b[0m\u001b[1;33m:\u001b[0m\u001b[1;33m\u001b[0m\u001b[0m\n\u001b[1;32m---> 30\u001b[1;33m         \u001b[0mst\u001b[0m \u001b[1;33m=\u001b[0m \u001b[0mos\u001b[0m\u001b[1;33m.\u001b[0m\u001b[0mstat\u001b[0m\u001b[1;33m(\u001b[0m\u001b[0mpath\u001b[0m\u001b[1;33m)\u001b[0m\u001b[1;33m\u001b[0m\u001b[0m\n\u001b[0m\u001b[0;32m     31\u001b[0m     \u001b[1;32mexcept\u001b[0m \u001b[0mOSError\u001b[0m\u001b[1;33m:\u001b[0m\u001b[1;33m\u001b[0m\u001b[0m\n\u001b[0;32m     32\u001b[0m         \u001b[1;32mreturn\u001b[0m \u001b[1;32mFalse\u001b[0m\u001b[1;33m\u001b[0m\u001b[0m\n",
      "\u001b[1;31mKeyboardInterrupt\u001b[0m: "
     ]
    }
   ],
   "source": [
    "X, Y, category_names = load_data(\"./data/DisasterResponse.db\")"
   ]
  },
  {
   "cell_type": "code",
   "execution_count": 45,
   "metadata": {},
   "outputs": [],
   "source": [
    "model = build_model()"
   ]
  },
  {
   "cell_type": "code",
   "execution_count": 177,
   "metadata": {},
   "outputs": [],
   "source": [
    "X_train, X_test, Y_train, Y_test = train_test_split(X, Y, test_size=0.2)\n"
   ]
  },
  {
   "cell_type": "code",
   "execution_count": 47,
   "metadata": {},
   "outputs": [
    {
     "name": "stdout",
     "output_type": "stream",
     "text": [
      "Fitting 5 folds for each of 9 candidates, totalling 45 fits\n",
      "[CV] clf__estimator__max_features=5, clf__estimator__min_samples_split=2 \n"
     ]
    },
    {
     "name": "stderr",
     "output_type": "stream",
     "text": [
      "[Parallel(n_jobs=1)]: Using backend SequentialBackend with 1 concurrent workers.\n"
     ]
    },
    {
     "name": "stdout",
     "output_type": "stream",
     "text": [
      "[CV]  clf__estimator__max_features=5, clf__estimator__min_samples_split=2, score=0.222, total= 3.9min\n"
     ]
    },
    {
     "name": "stderr",
     "output_type": "stream",
     "text": [
      "[Parallel(n_jobs=1)]: Done   1 out of   1 | elapsed:  3.9min remaining:    0.0s\n"
     ]
    },
    {
     "name": "stdout",
     "output_type": "stream",
     "text": [
      "[CV] clf__estimator__max_features=5, clf__estimator__min_samples_split=2 \n",
      "[CV]  clf__estimator__max_features=5, clf__estimator__min_samples_split=2, score=0.223, total= 4.1min\n",
      "[CV] clf__estimator__max_features=5, clf__estimator__min_samples_split=2 "
     ]
    },
    {
     "name": "stderr",
     "output_type": "stream",
     "text": [
      "[Parallel(n_jobs=1)]: Done   2 out of   2 | elapsed:  7.9min remaining:    0.0s\n"
     ]
    },
    {
     "name": "stdout",
     "output_type": "stream",
     "text": [
      "\n",
      "[CV]  clf__estimator__max_features=5, clf__estimator__min_samples_split=2, score=0.234, total= 4.7min\n",
      "[CV] clf__estimator__max_features=5, clf__estimator__min_samples_split=2 \n",
      "[CV]  clf__estimator__max_features=5, clf__estimator__min_samples_split=2, score=0.214, total= 4.9min\n",
      "[CV] clf__estimator__max_features=5, clf__estimator__min_samples_split=2 \n",
      "[CV]  clf__estimator__max_features=5, clf__estimator__min_samples_split=2, score=0.227, total= 4.6min\n",
      "[CV] clf__estimator__max_features=5, clf__estimator__min_samples_split=15 \n",
      "[CV]  clf__estimator__max_features=5, clf__estimator__min_samples_split=15, score=0.209, total= 2.4min\n",
      "[CV] clf__estimator__max_features=5, clf__estimator__min_samples_split=15 \n",
      "[CV]  clf__estimator__max_features=5, clf__estimator__min_samples_split=15, score=0.202, total= 2.6min\n",
      "[CV] clf__estimator__max_features=5, clf__estimator__min_samples_split=15 \n",
      "[CV]  clf__estimator__max_features=5, clf__estimator__min_samples_split=15, score=0.215, total= 2.9min\n",
      "[CV] clf__estimator__max_features=5, clf__estimator__min_samples_split=15 \n",
      "[CV]  clf__estimator__max_features=5, clf__estimator__min_samples_split=15, score=0.205, total= 2.2min\n",
      "[CV] clf__estimator__max_features=5, clf__estimator__min_samples_split=15 \n",
      "[CV]  clf__estimator__max_features=5, clf__estimator__min_samples_split=15, score=0.212, total= 2.2min\n",
      "[CV] clf__estimator__max_features=5, clf__estimator__min_samples_split=50 \n",
      "[CV]  clf__estimator__max_features=5, clf__estimator__min_samples_split=50, score=0.203, total= 1.7min\n",
      "[CV] clf__estimator__max_features=5, clf__estimator__min_samples_split=50 \n",
      "[CV]  clf__estimator__max_features=5, clf__estimator__min_samples_split=50, score=0.196, total= 1.8min\n",
      "[CV] clf__estimator__max_features=5, clf__estimator__min_samples_split=50 \n",
      "[CV]  clf__estimator__max_features=5, clf__estimator__min_samples_split=50, score=0.205, total= 1.8min\n",
      "[CV] clf__estimator__max_features=5, clf__estimator__min_samples_split=50 \n",
      "[CV]  clf__estimator__max_features=5, clf__estimator__min_samples_split=50, score=0.196, total= 1.8min\n",
      "[CV] clf__estimator__max_features=5, clf__estimator__min_samples_split=50 \n",
      "[CV]  clf__estimator__max_features=5, clf__estimator__min_samples_split=50, score=0.208, total= 1.6min\n",
      "[CV] clf__estimator__max_features=10, clf__estimator__min_samples_split=2 \n",
      "[CV]  clf__estimator__max_features=10, clf__estimator__min_samples_split=2, score=0.225, total= 3.0min\n",
      "[CV] clf__estimator__max_features=10, clf__estimator__min_samples_split=2 \n",
      "[CV]  clf__estimator__max_features=10, clf__estimator__min_samples_split=2, score=0.222, total= 3.0min\n",
      "[CV] clf__estimator__max_features=10, clf__estimator__min_samples_split=2 \n",
      "[CV]  clf__estimator__max_features=10, clf__estimator__min_samples_split=2, score=0.239, total= 3.0min\n",
      "[CV] clf__estimator__max_features=10, clf__estimator__min_samples_split=2 \n",
      "[CV]  clf__estimator__max_features=10, clf__estimator__min_samples_split=2, score=0.215, total= 3.0min\n",
      "[CV] clf__estimator__max_features=10, clf__estimator__min_samples_split=2 \n",
      "[CV]  clf__estimator__max_features=10, clf__estimator__min_samples_split=2, score=0.234, total= 3.0min\n",
      "[CV] clf__estimator__max_features=10, clf__estimator__min_samples_split=15 \n",
      "[CV]  clf__estimator__max_features=10, clf__estimator__min_samples_split=15, score=0.211, total= 1.7min\n",
      "[CV] clf__estimator__max_features=10, clf__estimator__min_samples_split=15 \n",
      "[CV]  clf__estimator__max_features=10, clf__estimator__min_samples_split=15, score=0.209, total= 1.8min\n",
      "[CV] clf__estimator__max_features=10, clf__estimator__min_samples_split=15 \n",
      "[CV]  clf__estimator__max_features=10, clf__estimator__min_samples_split=15, score=0.217, total= 1.8min\n",
      "[CV] clf__estimator__max_features=10, clf__estimator__min_samples_split=15 \n",
      "[CV]  clf__estimator__max_features=10, clf__estimator__min_samples_split=15, score=0.206, total= 1.8min\n",
      "[CV] clf__estimator__max_features=10, clf__estimator__min_samples_split=15 \n",
      "[CV]  clf__estimator__max_features=10, clf__estimator__min_samples_split=15, score=0.213, total= 1.8min\n",
      "[CV] clf__estimator__max_features=10, clf__estimator__min_samples_split=50 \n",
      "[CV]  clf__estimator__max_features=10, clf__estimator__min_samples_split=50, score=0.200, total= 1.4min\n",
      "[CV] clf__estimator__max_features=10, clf__estimator__min_samples_split=50 \n",
      "[CV]  clf__estimator__max_features=10, clf__estimator__min_samples_split=50, score=0.197, total= 1.3min\n",
      "[CV] clf__estimator__max_features=10, clf__estimator__min_samples_split=50 \n",
      "[CV]  clf__estimator__max_features=10, clf__estimator__min_samples_split=50, score=0.210, total= 1.3min\n",
      "[CV] clf__estimator__max_features=10, clf__estimator__min_samples_split=50 \n",
      "[CV]  clf__estimator__max_features=10, clf__estimator__min_samples_split=50, score=0.196, total= 1.4min\n",
      "[CV] clf__estimator__max_features=10, clf__estimator__min_samples_split=50 \n",
      "[CV]  clf__estimator__max_features=10, clf__estimator__min_samples_split=50, score=0.207, total= 1.4min\n",
      "[CV] clf__estimator__max_features=50, clf__estimator__min_samples_split=2 \n",
      "[CV]  clf__estimator__max_features=50, clf__estimator__min_samples_split=2, score=0.227, total= 2.7min\n",
      "[CV] clf__estimator__max_features=50, clf__estimator__min_samples_split=2 \n",
      "[CV]  clf__estimator__max_features=50, clf__estimator__min_samples_split=2, score=0.230, total= 2.7min\n",
      "[CV] clf__estimator__max_features=50, clf__estimator__min_samples_split=2 \n",
      "[CV]  clf__estimator__max_features=50, clf__estimator__min_samples_split=2, score=0.235, total= 2.6min\n",
      "[CV] clf__estimator__max_features=50, clf__estimator__min_samples_split=2 \n",
      "[CV]  clf__estimator__max_features=50, clf__estimator__min_samples_split=2, score=0.218, total= 2.5min\n",
      "[CV] clf__estimator__max_features=50, clf__estimator__min_samples_split=2 \n",
      "[CV]  clf__estimator__max_features=50, clf__estimator__min_samples_split=2, score=0.232, total= 3.5min\n",
      "[CV] clf__estimator__max_features=50, clf__estimator__min_samples_split=15 \n",
      "[CV]  clf__estimator__max_features=50, clf__estimator__min_samples_split=15, score=0.215, total= 1.5min\n",
      "[CV] clf__estimator__max_features=50, clf__estimator__min_samples_split=15 \n",
      "[CV]  clf__estimator__max_features=50, clf__estimator__min_samples_split=15, score=0.213, total= 1.5min\n",
      "[CV] clf__estimator__max_features=50, clf__estimator__min_samples_split=15 \n",
      "[CV]  clf__estimator__max_features=50, clf__estimator__min_samples_split=15, score=0.223, total= 1.8min\n",
      "[CV] clf__estimator__max_features=50, clf__estimator__min_samples_split=15 \n",
      "[CV]  clf__estimator__max_features=50, clf__estimator__min_samples_split=15, score=0.208, total= 1.5min\n",
      "[CV] clf__estimator__max_features=50, clf__estimator__min_samples_split=15 \n",
      "[CV]  clf__estimator__max_features=50, clf__estimator__min_samples_split=15, score=0.223, total= 1.5min\n",
      "[CV] clf__estimator__max_features=50, clf__estimator__min_samples_split=50 \n",
      "[CV]  clf__estimator__max_features=50, clf__estimator__min_samples_split=50, score=0.214, total= 1.1min\n",
      "[CV] clf__estimator__max_features=50, clf__estimator__min_samples_split=50 \n",
      "[CV]  clf__estimator__max_features=50, clf__estimator__min_samples_split=50, score=0.198, total= 1.2min\n",
      "[CV] clf__estimator__max_features=50, clf__estimator__min_samples_split=50 \n",
      "[CV]  clf__estimator__max_features=50, clf__estimator__min_samples_split=50, score=0.217, total= 1.2min\n",
      "[CV] clf__estimator__max_features=50, clf__estimator__min_samples_split=50 \n",
      "[CV]  clf__estimator__max_features=50, clf__estimator__min_samples_split=50, score=0.202, total= 1.1min\n",
      "[CV] clf__estimator__max_features=50, clf__estimator__min_samples_split=50 \n",
      "[CV]  clf__estimator__max_features=50, clf__estimator__min_samples_split=50, score=0.211, total= 1.2min\n"
     ]
    },
    {
     "name": "stderr",
     "output_type": "stream",
     "text": [
      "[Parallel(n_jobs=1)]: Done  45 out of  45 | elapsed: 101.8min finished\n"
     ]
    },
    {
     "data": {
      "text/plain": [
       "GridSearchCV(cv=None, error_score=nan,\n",
       "             estimator=Pipeline(memory=None,\n",
       "                                steps=[('tfidf_vec',\n",
       "                                        TfidfVectorizer(analyzer='word',\n",
       "                                                        binary=False,\n",
       "                                                        decode_error='strict',\n",
       "                                                        dtype=<class 'numpy.float64'>,\n",
       "                                                        encoding='utf-8',\n",
       "                                                        input='content',\n",
       "                                                        lowercase=True,\n",
       "                                                        max_df=1.0,\n",
       "                                                        max_features=None,\n",
       "                                                        min_df=1,\n",
       "                                                        ngram_range=(1, 1),\n",
       "                                                        norm='l2',\n",
       "                                                        preprocessor=None,\n",
       "                                                        smooth_idf=True,\n",
       "                                                        stop_words=None,\n",
       "                                                        st...\n",
       "                                                                                               min_weight_fraction_leaf=0.0,\n",
       "                                                                                               n_estimators=100,\n",
       "                                                                                               n_jobs=None,\n",
       "                                                                                               oob_score=False,\n",
       "                                                                                               random_state=None,\n",
       "                                                                                               verbose=0,\n",
       "                                                                                               warm_start=False),\n",
       "                                                              n_jobs=-1))],\n",
       "                                verbose=False),\n",
       "             iid='deprecated', n_jobs=None,\n",
       "             param_grid={'clf__estimator__max_features': [5, 10, 50],\n",
       "                         'clf__estimator__min_samples_split': [2, 15, 50]},\n",
       "             pre_dispatch='2*n_jobs', refit=True, return_train_score=False,\n",
       "             scoring=None, verbose=3)"
      ]
     },
     "execution_count": 47,
     "metadata": {},
     "output_type": "execute_result"
    }
   ],
   "source": [
    "model.fit(X_train, Y_train)"
   ]
  },
  {
   "cell_type": "code",
   "execution_count": 69,
   "metadata": {},
   "outputs": [],
   "source": [
    "res = model.predict(X_test)"
   ]
  },
  {
   "cell_type": "code",
   "execution_count": 147,
   "metadata": {},
   "outputs": [],
   "source": [
    "res = pd.DataFrame(res)\n",
    "res.columns = category_names\n",
    "#res2 = pd.melt(res, ignore_index=False)\n",
    "#res2 = res2[res2['value'] == 1]\n",
    "#res2 = res2.reset_index(drop = False).sort_values(by = 'index',axis = 0)\n"
   ]
  },
  {
   "cell_type": "code",
   "execution_count": 187,
   "metadata": {},
   "outputs": [
    {
     "name": "stdout",
     "output_type": "stream",
     "text": [
      "step1\n",
      "step2\n",
      "step3\n",
      "step4\n",
      "\n",
      "Best Parameters: {'clf__estimator__max_features': 50, 'clf__estimator__min_samples_split': 2}\n"
     ]
    }
   ],
   "source": [
    "ps,rs,fs,ss  = evaluate_model(model, X_test, Y_test, category_names)"
   ]
  },
  {
   "cell_type": "code",
   "execution_count": 229,
   "metadata": {},
   "outputs": [
    {
     "name": "stdout",
     "output_type": "stream",
     "text": [
      "[0.93403376 0.5410628  0.         0.         0.         0.\n",
      " 0.         0.         0.         0.         0.         0.\n",
      " 0.         0.         0.         0.         0.         0.\n",
      " 0.         0.         0.         0.         0.         0.\n",
      " 0.         0.         0.         0.         0.         0.\n",
      " 0.         0.         0.         0.         0.         0.        ]\n",
      "[0.97748641 0.2786746  0.         0.         0.         0.\n",
      " 0.         0.         0.         0.         0.         0.\n",
      " 0.         0.         0.         0.         0.         0.\n",
      " 0.         0.         0.         0.         0.         0.\n",
      " 0.         0.         0.         0.         0.         0.\n",
      " 0.         0.         0.         0.         0.         0.        ]\n",
      "[0.9552662  0.36787503 0.         0.         0.         0.\n",
      " 0.         0.         0.         0.         0.         0.\n",
      " 0.         0.         0.         0.         0.         0.\n",
      " 0.         0.         0.         0.         0.         0.\n",
      " 0.         0.         0.         0.         0.         0.\n",
      " 0.         0.         0.         0.         0.         0.        ]\n",
      "[171985  16478     33      0      0      0      0      0      0      0\n",
      "      0      0      0      0      0      0      0      0      0      0\n",
      "      0      0      0      0      0      0      0      0      0      0\n",
      "      0      0      0      0      0      0]\n"
     ]
    }
   ],
   "source": [
    "print(ps)\n",
    "print(rs)\n",
    "print(fs)\n",
    "print(ss)"
   ]
  },
  {
   "cell_type": "code",
   "execution_count": 228,
   "metadata": {},
   "outputs": [],
   "source": [
    "\n",
    "m = MultiLabelBinarizer().fit(Y_test)\n",
    "\n",
    "ps,rs,fs,ss  = precision_recall_fscore_support(np.array(Y_test).reshape(-1), np.array(res).reshape(-1), labels = range(0,36), average= None)"
   ]
  },
  {
   "cell_type": "code",
   "execution_count": 223,
   "metadata": {},
   "outputs": [
    {
     "name": "stderr",
     "output_type": "stream",
     "text": [
      "C:\\Users\\madke\\AppData\\Roaming\\Python\\Python36\\site-packages\\sklearn\\metrics\\_classification.py:1272: UndefinedMetricWarning: Precision and F-score are ill-defined and being set to 0.0 in labels with no predicted samples. Use `zero_division` parameter to control this behavior.\n",
      "  _warn_prf(average, modifier, msg_start, len(result))\n",
      "C:\\Users\\madke\\AppData\\Roaming\\Python\\Python36\\site-packages\\sklearn\\metrics\\_classification.py:1272: UndefinedMetricWarning: Recall and F-score are ill-defined and being set to 0.0 in labels with no true samples. Use `zero_division` parameter to control this behavior.\n",
      "  _warn_prf(average, modifier, msg_start, len(result))\n"
     ]
    }
   ],
   "source": [
    "cr  = classification_report(np.array(Y_test).reshape(-1), np.array(res).reshape(-1), labels = range(0,36), target_names=category_names)"
   ]
  },
  {
   "cell_type": "code",
   "execution_count": 227,
   "metadata": {},
   "outputs": [
    {
     "data": {
      "text/plain": [
       "'                        precision    recall  f1-score   support\\n\\n               related       0.93      0.98      0.96    171985\\n               request       0.54      0.28      0.37     16478\\n                 offer       0.00      0.00      0.00        33\\n           aid_related       0.00      0.00      0.00         0\\n          medical_help       0.00      0.00      0.00         0\\n      medical_products       0.00      0.00      0.00         0\\n     search_and_rescue       0.00      0.00      0.00         0\\n              security       0.00      0.00      0.00         0\\n              military       0.00      0.00      0.00         0\\n           child_alone       0.00      0.00      0.00         0\\n                 water       0.00      0.00      0.00         0\\n                  food       0.00      0.00      0.00         0\\n               shelter       0.00      0.00      0.00         0\\n              clothing       0.00      0.00      0.00         0\\n                 money       0.00      0.00      0.00         0\\n        missing_people       0.00      0.00      0.00         0\\n              refugees       0.00      0.00      0.00         0\\n                 death       0.00      0.00      0.00         0\\n             other_aid       0.00      0.00      0.00         0\\ninfrastructure_related       0.00      0.00      0.00         0\\n             transport       0.00      0.00      0.00         0\\n             buildings       0.00      0.00      0.00         0\\n           electricity       0.00      0.00      0.00         0\\n                 tools       0.00      0.00      0.00         0\\n             hospitals       0.00      0.00      0.00         0\\n                 shops       0.00      0.00      0.00         0\\n           aid_centers       0.00      0.00      0.00         0\\n  other_infrastructure       0.00      0.00      0.00         0\\n       weather_related       0.00      0.00      0.00         0\\n                floods       0.00      0.00      0.00         0\\n                 storm       0.00      0.00      0.00         0\\n                  fire       0.00      0.00      0.00         0\\n            earthquake       0.00      0.00      0.00         0\\n                  cold       0.00      0.00      0.00         0\\n         other_weather       0.00      0.00      0.00         0\\n         direct_report       0.00      0.00      0.00         0\\n\\n             micro avg       0.92      0.92      0.92    188496\\n             macro avg       0.04      0.03      0.04    188496\\n          weighted avg       0.90      0.92      0.90    188496\\n'"
      ]
     },
     "execution_count": 227,
     "metadata": {},
     "output_type": "execute_result"
    }
   ],
   "source": [
    "cr"
   ]
  },
  {
   "cell_type": "code",
   "execution_count": null,
   "metadata": {},
   "outputs": [],
   "source": []
  }
 ],
 "metadata": {
  "kernelspec": {
   "display_name": "Python 3",
   "language": "python",
   "name": "python3"
  },
  "language_info": {
   "codemirror_mode": {
    "name": "ipython",
    "version": 3
   },
   "file_extension": ".py",
   "mimetype": "text/x-python",
   "name": "python",
   "nbconvert_exporter": "python",
   "pygments_lexer": "ipython3",
   "version": "3.6.4"
  }
 },
 "nbformat": 4,
 "nbformat_minor": 2
}
